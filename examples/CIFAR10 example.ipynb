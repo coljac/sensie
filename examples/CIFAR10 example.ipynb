{
 "cells": [
  {
   "cell_type": "code",
   "execution_count": 1,
   "metadata": {},
   "outputs": [],
   "source": [
    "%matplotlib inline\n",
    "\n",
    "import tensorflow as tf\n",
    "import tensorflow.keras as keras\n",
    "import tensorflow.keras.layers as layers\n",
    "from tensorflow.keras.models import Sequential\n",
    "from scipy import ndimage\n",
    "import sensie"
   ]
  },
  {
   "cell_type": "code",
   "execution_count": 28,
   "metadata": {},
   "outputs": [
    {
     "data": {
      "text/plain": [
       "[PhysicalDevice(name='/physical_device:GPU:0', device_type='GPU')]"
      ]
     },
     "execution_count": 28,
     "metadata": {},
     "output_type": "execute_result"
    }
   ],
   "source": [
    "# TF issue needed for some GPUs\n",
    "# tf.config.experimental.set_memory_growth(tf.config.list_physical_devices(\"GPU\")[0], True)\n",
    "tf.config.list_physical_devices(\"GPU\")"
   ]
  },
  {
   "cell_type": "code",
   "execution_count": 3,
   "metadata": {},
   "outputs": [],
   "source": [
    "cifar10 = tf.keras.datasets.cifar10\n",
    "\n",
    "(X_train, y_train), (X_test, y_test) = cifar10.load_data()"
   ]
  },
  {
   "cell_type": "code",
   "execution_count": 4,
   "metadata": {},
   "outputs": [],
   "source": [
    "def fade(x, amount):\n",
    "    return x*(1-amount)\n",
    "\n",
    "def blur(x, sigma):\n",
    "    blurred = ndimage.gaussian_filter(x, sigma=sigma/10)\n",
    "    return blurred\n"
   ]
  },
  {
   "cell_type": "code",
   "execution_count": 5,
   "metadata": {},
   "outputs": [],
   "source": [
    "def make_model_cifar10():\n",
    "    model = Sequential()\n",
    "    model.add(layers.Conv2D(32, (3, 3), padding='same',\n",
    "                     input_shape=(32, 32, 3)))\n",
    "    model.add(layers.Activation('relu'))\n",
    "    model.add(layers.Conv2D(32, (3, 3)))\n",
    "    model.add(layers.Activation('relu'))\n",
    "    model.add(layers.MaxPooling2D(pool_size=(2, 2)))\n",
    "    model.add(layers.Dropout(0.25))\n",
    "\n",
    "    model.add(layers.Conv2D(64, (3, 3), padding='same'))\n",
    "    model.add(layers.Activation('relu'))\n",
    "    model.add(layers.Conv2D(64, (3, 3)))\n",
    "    model.add(layers.Activation('relu'))\n",
    "    model.add(layers.MaxPooling2D(pool_size=(2, 2)))\n",
    "    model.add(layers.Dropout(0.25))\n",
    "\n",
    "    model.add(layers.Flatten())\n",
    "    model.add(layers.Dense(512))\n",
    "    model.add(layers.Activation('relu'))\n",
    "    model.add(layers.Dropout(0.5))\n",
    "    model.add(layers.Dense(num_classes))\n",
    "    model.add(layers.Activation('softmax'))\n",
    "    \n",
    "    return model"
   ]
  },
  {
   "cell_type": "code",
   "execution_count": 6,
   "metadata": {},
   "outputs": [],
   "source": [
    "# Train\n",
    "\n",
    "batch_size = 32\n",
    "num_classes = 10\n",
    "epochs = 100\n",
    "\n",
    "model = make_model_cifar10()\n",
    "\n",
    "opt = keras.optimizers.RMSprop(learning_rate=0.0001, decay=1e-6)\n",
    "\n",
    "model.compile(loss='categorical_crossentropy',\n",
    "              optimizer=opt,\n",
    "              metrics=['accuracy'])\n",
    "\n",
    "X_train = X_train.astype('float32')\n",
    "X_test = X_test.astype('float32')\n",
    "X_train /= 255\n",
    "X_test /= 255"
   ]
  },
  {
   "cell_type": "code",
   "execution_count": 7,
   "metadata": {},
   "outputs": [],
   "source": [
    "y_train = keras.utils.to_categorical(y_train, num_classes)\n",
    "y_test = keras.utils.to_categorical(y_test, num_classes)"
   ]
  },
  {
   "cell_type": "code",
   "execution_count": 7,
   "metadata": {
    "scrolled": true
   },
   "outputs": [
    {
     "name": "stdout",
     "output_type": "stream",
     "text": [
      "Train on 50000 samples, validate on 10000 samples\n",
      "Epoch 1/100\n",
      "50000/50000 [==============================] - 9s 188us/sample - loss: 1.8170 - accuracy: 0.3330 - val_loss: 1.5004 - val_accuracy: 0.4586\n",
      "Epoch 2/100\n",
      "50000/50000 [==============================] - 8s 154us/sample - loss: 1.4661 - accuracy: 0.4704 - val_loss: 1.3423 - val_accuracy: 0.5183\n",
      "Epoch 3/100\n",
      "50000/50000 [==============================] - 8s 154us/sample - loss: 1.3285 - accuracy: 0.5242 - val_loss: 1.2439 - val_accuracy: 0.5583\n",
      "Epoch 4/100\n",
      "50000/50000 [==============================] - 8s 161us/sample - loss: 1.2409 - accuracy: 0.5595 - val_loss: 1.2162 - val_accuracy: 0.5707\n",
      "Epoch 5/100\n",
      "50000/50000 [==============================] - 8s 155us/sample - loss: 1.1651 - accuracy: 0.5892 - val_loss: 1.0688 - val_accuracy: 0.6283\n",
      "Epoch 6/100\n",
      "50000/50000 [==============================] - 8s 157us/sample - loss: 1.0961 - accuracy: 0.6137 - val_loss: 1.0152 - val_accuracy: 0.6468\n",
      "Epoch 7/100\n",
      "50000/50000 [==============================] - 8s 152us/sample - loss: 1.0416 - accuracy: 0.6353 - val_loss: 0.9718 - val_accuracy: 0.6594\n",
      "Epoch 8/100\n",
      "50000/50000 [==============================] - 8s 156us/sample - loss: 0.9937 - accuracy: 0.6511 - val_loss: 0.9846 - val_accuracy: 0.6554\n",
      "Epoch 9/100\n",
      "50000/50000 [==============================] - 8s 156us/sample - loss: 0.9562 - accuracy: 0.6658 - val_loss: 0.8935 - val_accuracy: 0.6921\n",
      "Epoch 10/100\n",
      "50000/50000 [==============================] - 8s 155us/sample - loss: 0.9193 - accuracy: 0.6791 - val_loss: 0.8720 - val_accuracy: 0.6962\n",
      "Epoch 11/100\n",
      "50000/50000 [==============================] - 8s 157us/sample - loss: 0.8886 - accuracy: 0.6899 - val_loss: 0.8416 - val_accuracy: 0.7089\n",
      "Epoch 12/100\n",
      "50000/50000 [==============================] - 8s 155us/sample - loss: 0.8616 - accuracy: 0.7008 - val_loss: 0.8040 - val_accuracy: 0.7205\n",
      "Epoch 13/100\n",
      "50000/50000 [==============================] - 8s 158us/sample - loss: 0.8394 - accuracy: 0.7094 - val_loss: 0.8152 - val_accuracy: 0.7165\n",
      "Epoch 14/100\n",
      "50000/50000 [==============================] - 8s 160us/sample - loss: 0.8162 - accuracy: 0.7175 - val_loss: 0.7694 - val_accuracy: 0.7366\n",
      "Epoch 15/100\n",
      "50000/50000 [==============================] - 8s 159us/sample - loss: 0.7955 - accuracy: 0.7242 - val_loss: 0.7678 - val_accuracy: 0.7365\n",
      "Epoch 16/100\n",
      "50000/50000 [==============================] - 8s 156us/sample - loss: 0.7823 - accuracy: 0.7289 - val_loss: 0.7572 - val_accuracy: 0.7375\n",
      "Epoch 17/100\n",
      "50000/50000 [==============================] - 8s 159us/sample - loss: 0.7666 - accuracy: 0.7339 - val_loss: 0.7809 - val_accuracy: 0.7310\n",
      "Epoch 18/100\n",
      "50000/50000 [==============================] - 8s 154us/sample - loss: 0.7533 - accuracy: 0.7410 - val_loss: 0.7481 - val_accuracy: 0.7413\n",
      "Epoch 19/100\n",
      "50000/50000 [==============================] - 8s 154us/sample - loss: 0.7423 - accuracy: 0.7440 - val_loss: 0.7258 - val_accuracy: 0.7525\n",
      "Epoch 20/100\n",
      "50000/50000 [==============================] - 8s 160us/sample - loss: 0.7335 - accuracy: 0.7476 - val_loss: 0.7233 - val_accuracy: 0.7529\n",
      "Epoch 21/100\n",
      "50000/50000 [==============================] - 8s 156us/sample - loss: 0.7233 - accuracy: 0.7506 - val_loss: 0.7016 - val_accuracy: 0.7576\n",
      "Epoch 22/100\n",
      "50000/50000 [==============================] - 8s 155us/sample - loss: 0.7135 - accuracy: 0.7537 - val_loss: 0.7450 - val_accuracy: 0.7452\n",
      "Epoch 23/100\n",
      "50000/50000 [==============================] - 8s 155us/sample - loss: 0.7070 - accuracy: 0.7583 - val_loss: 0.6983 - val_accuracy: 0.7611\n",
      "Epoch 24/100\n",
      "50000/50000 [==============================] - 8s 159us/sample - loss: 0.6959 - accuracy: 0.7612 - val_loss: 0.7006 - val_accuracy: 0.7634\n",
      "Epoch 25/100\n",
      "50000/50000 [==============================] - 8s 157us/sample - loss: 0.6969 - accuracy: 0.7592 - val_loss: 0.6913 - val_accuracy: 0.7646\n",
      "Epoch 26/100\n",
      "50000/50000 [==============================] - 8s 156us/sample - loss: 0.6841 - accuracy: 0.7641 - val_loss: 0.6873 - val_accuracy: 0.7656\n",
      "Epoch 27/100\n",
      "50000/50000 [==============================] - 8s 161us/sample - loss: 0.6812 - accuracy: 0.7674 - val_loss: 0.6825 - val_accuracy: 0.7672\n",
      "Epoch 28/100\n",
      "50000/50000 [==============================] - 8s 159us/sample - loss: 0.6778 - accuracy: 0.7693 - val_loss: 0.6787 - val_accuracy: 0.7721\n",
      "Epoch 29/100\n",
      "50000/50000 [==============================] - 8s 154us/sample - loss: 0.6775 - accuracy: 0.7688 - val_loss: 0.7114 - val_accuracy: 0.7683\n",
      "Epoch 30/100\n",
      "50000/50000 [==============================] - 8s 159us/sample - loss: 0.6719 - accuracy: 0.7688 - val_loss: 0.6704 - val_accuracy: 0.7711\n",
      "Epoch 31/100\n",
      "50000/50000 [==============================] - 8s 157us/sample - loss: 0.6680 - accuracy: 0.7723 - val_loss: 0.7205 - val_accuracy: 0.7597\n",
      "Epoch 32/100\n",
      "50000/50000 [==============================] - 8s 155us/sample - loss: 0.6622 - accuracy: 0.7734 - val_loss: 0.6749 - val_accuracy: 0.7714\n",
      "Epoch 33/100\n",
      "50000/50000 [==============================] - 8s 156us/sample - loss: 0.6568 - accuracy: 0.7763 - val_loss: 0.6669 - val_accuracy: 0.7770\n",
      "Epoch 34/100\n",
      "50000/50000 [==============================] - 8s 155us/sample - loss: 0.6536 - accuracy: 0.7784 - val_loss: 0.7023 - val_accuracy: 0.7627\n",
      "Epoch 35/100\n",
      "50000/50000 [==============================] - 8s 154us/sample - loss: 0.6525 - accuracy: 0.7792 - val_loss: 0.6672 - val_accuracy: 0.7792\n",
      "Epoch 36/100\n",
      "50000/50000 [==============================] - 8s 155us/sample - loss: 0.6496 - accuracy: 0.7796 - val_loss: 0.6597 - val_accuracy: 0.7793\n",
      "Epoch 37/100\n",
      "50000/50000 [==============================] - 8s 157us/sample - loss: 0.6459 - accuracy: 0.7811 - val_loss: 0.6758 - val_accuracy: 0.7760\n",
      "Epoch 38/100\n",
      "50000/50000 [==============================] - 8s 158us/sample - loss: 0.6398 - accuracy: 0.7824 - val_loss: 0.6696 - val_accuracy: 0.7761\n",
      "Epoch 39/100\n",
      "50000/50000 [==============================] - 8s 155us/sample - loss: 0.6430 - accuracy: 0.7818 - val_loss: 0.6746 - val_accuracy: 0.7749\n",
      "Epoch 40/100\n",
      "50000/50000 [==============================] - 8s 159us/sample - loss: 0.6462 - accuracy: 0.7803 - val_loss: 0.6563 - val_accuracy: 0.7850\n",
      "Epoch 41/100\n",
      "50000/50000 [==============================] - 8s 157us/sample - loss: 0.6422 - accuracy: 0.7843 - val_loss: 0.6420 - val_accuracy: 0.7832\n",
      "Epoch 42/100\n",
      "50000/50000 [==============================] - 8s 160us/sample - loss: 0.6366 - accuracy: 0.7852 - val_loss: 0.6533 - val_accuracy: 0.7857\n",
      "Epoch 43/100\n",
      "50000/50000 [==============================] - 8s 155us/sample - loss: 0.6350 - accuracy: 0.7866 - val_loss: 0.6458 - val_accuracy: 0.7835\n",
      "Epoch 44/100\n",
      "50000/50000 [==============================] - 8s 160us/sample - loss: 0.6336 - accuracy: 0.7866 - val_loss: 0.6574 - val_accuracy: 0.7851\n",
      "Epoch 45/100\n",
      "50000/50000 [==============================] - 8s 156us/sample - loss: 0.6286 - accuracy: 0.7878 - val_loss: 0.6884 - val_accuracy: 0.7807\n",
      "Epoch 46/100\n",
      "50000/50000 [==============================] - 8s 153us/sample - loss: 0.6225 - accuracy: 0.7906 - val_loss: 0.6374 - val_accuracy: 0.7896\n",
      "Epoch 52/100\n",
      "50000/50000 [==============================] - 8s 153us/sample - loss: 0.6172 - accuracy: 0.7915 - val_loss: 0.6511 - val_accuracy: 0.7877\n",
      "Epoch 53/100\n",
      "50000/50000 [==============================] - 8s 155us/sample - loss: 0.6181 - accuracy: 0.7948 - val_loss: 0.6446 - val_accuracy: 0.7926\n",
      "Epoch 54/100\n",
      "50000/50000 [==============================] - 8s 155us/sample - loss: 0.6157 - accuracy: 0.7947 - val_loss: 0.7011 - val_accuracy: 0.7681\n",
      "Epoch 55/100\n",
      "50000/50000 [==============================] - 8s 154us/sample - loss: 0.6120 - accuracy: 0.7942 - val_loss: 0.6620 - val_accuracy: 0.7819\n",
      "Epoch 56/100\n",
      "50000/50000 [==============================] - 8s 158us/sample - loss: 0.6120 - accuracy: 0.7953 - val_loss: 0.6437 - val_accuracy: 0.7842\n",
      "Epoch 57/100\n",
      "50000/50000 [==============================] - 8s 152us/sample - loss: 0.6142 - accuracy: 0.7950 - val_loss: 0.6771 - val_accuracy: 0.7785\n",
      "Epoch 58/100\n",
      "50000/50000 [==============================] - 8s 152us/sample - loss: 0.6078 - accuracy: 0.7959 - val_loss: 0.7012 - val_accuracy: 0.7768\n",
      "Epoch 59/100\n",
      "50000/50000 [==============================] - 8s 151us/sample - loss: 0.6127 - accuracy: 0.7961 - val_loss: 0.6622 - val_accuracy: 0.7855\n",
      "Epoch 60/100\n",
      "50000/50000 [==============================] - 8s 157us/sample - loss: 0.6045 - accuracy: 0.7994 - val_loss: 0.6394 - val_accuracy: 0.7888\n",
      "Epoch 61/100\n",
      "50000/50000 [==============================] - 8s 151us/sample - loss: 0.6030 - accuracy: 0.7977 - val_loss: 0.6832 - val_accuracy: 0.7878\n",
      "Epoch 62/100\n",
      "50000/50000 [==============================] - 8s 156us/sample - loss: 0.6053 - accuracy: 0.7961 - val_loss: 0.6350 - val_accuracy: 0.7957\n",
      "Epoch 63/100\n",
      "50000/50000 [==============================] - 8s 157us/sample - loss: 0.6067 - accuracy: 0.7991 - val_loss: 0.6574 - val_accuracy: 0.7816\n",
      "Epoch 64/100\n",
      "50000/50000 [==============================] - 8s 153us/sample - loss: 0.6087 - accuracy: 0.7981 - val_loss: 0.6413 - val_accuracy: 0.7942\n",
      "Epoch 65/100\n",
      "50000/50000 [==============================] - 8s 154us/sample - loss: 0.6026 - accuracy: 0.8001 - val_loss: 0.6399 - val_accuracy: 0.7885\n",
      "Epoch 66/100\n",
      "50000/50000 [==============================] - 7s 149us/sample - loss: 0.6071 - accuracy: 0.7984 - val_loss: 0.6441 - val_accuracy: 0.7878\n",
      "Epoch 67/100\n",
      "50000/50000 [==============================] - 7s 146us/sample - loss: 0.6021 - accuracy: 0.8003 - val_loss: 0.6796 - val_accuracy: 0.7773\n",
      "Epoch 68/100\n",
      "50000/50000 [==============================] - 7s 146us/sample - loss: 0.5996 - accuracy: 0.7999 - val_loss: 0.6665 - val_accuracy: 0.7767\n",
      "Epoch 69/100\n",
      "50000/50000 [==============================] - 7s 147us/sample - loss: 0.5987 - accuracy: 0.7989 - val_loss: 0.6536 - val_accuracy: 0.7853\n",
      "Epoch 70/100\n",
      "50000/50000 [==============================] - 7s 146us/sample - loss: 0.5965 - accuracy: 0.8024 - val_loss: 0.6906 - val_accuracy: 0.7794\n",
      "Epoch 71/100\n",
      "50000/50000 [==============================] - 7s 147us/sample - loss: 0.5999 - accuracy: 0.8002 - val_loss: 0.6278 - val_accuracy: 0.7936\n",
      "Epoch 72/100\n",
      "50000/50000 [==============================] - 7s 149us/sample - loss: 0.5975 - accuracy: 0.7984 - val_loss: 0.6525 - val_accuracy: 0.7914\n",
      "Epoch 73/100\n",
      "25568/50000 [==============>...............] - ETA: 3s - loss: 0.6012 - accuracy: 0.8017"
     ]
    },
    {
     "name": "stderr",
     "output_type": "stream",
     "text": [
      "IOPub message rate exceeded.\n",
      "The notebook server will temporarily stop sending output\n",
      "to the client in order to avoid crashing it.\n",
      "To change this limit, set the config variable\n",
      "`--NotebookApp.iopub_msg_rate_limit`.\n",
      "\n",
      "Current values:\n",
      "NotebookApp.iopub_msg_rate_limit=1000.0 (msgs/sec)\n",
      "NotebookApp.rate_limit_window=3.0 (secs)\n",
      "\n"
     ]
    }
   ],
   "source": [
    "model.fit(X_train, y_train,\n",
    "      batch_size=batch_size,\n",
    "      epochs=epochs,\n",
    "      validation_data=(X_test, y_test),\n",
    "      shuffle=True)\n",
    "\n"
   ]
  },
  {
   "cell_type": "code",
   "execution_count": 9,
   "metadata": {
    "scrolled": false
   },
   "outputs": [
    {
     "name": "stdout",
     "output_type": "stream",
     "text": [
      "10000/10000 - 2s - loss: 0.7219 - accuracy: 0.7875\n"
     ]
    },
    {
     "data": {
      "text/plain": [
       "[0.7219410722732544, 0.7875]"
      ]
     },
     "execution_count": 9,
     "metadata": {},
     "output_type": "execute_result"
    }
   ],
   "source": [
    "model.evaluate(X_test, y_test, verbose=2)"
   ]
  },
  {
   "cell_type": "code",
   "execution_count": 10,
   "metadata": {},
   "outputs": [],
   "source": [
    "(_, y_train_c), (_, y_test_c) = cifar10.load_data()\n",
    "y_test = y_test_c[:, 0]"
   ]
  },
  {
   "cell_type": "markdown",
   "metadata": {},
   "source": [
    "Are some classes more difficult for the network than others? This method is a quick way to visualize the confusion. This may be relevant if class and other tested properties are highly correlated."
   ]
  },
  {
   "cell_type": "code",
   "execution_count": 11,
   "metadata": {},
   "outputs": [
    {
     "name": "stdout",
     "output_type": "stream",
     "text": [
      "\r",
      "[########################################] 100% (1/1)    class     "
     ]
    },
    {
     "data": {
      "image/png": "[encoded data removed]",
      "text/plain": [
       "<Figure size 432x288 with 1 Axes>"
      ]
     },
     "metadata": {
      "needs_background": "light"
     },
     "output_type": "display_data"
    }
   ],
   "source": [
    "cifar_probe = sensie.Probe(model)\n",
    "class_test = cifar_probe.test_class_sensitivity(X_test, y_test, plot=True)"
   ]
  },
  {
   "cell_type": "code",
   "execution_count": 17,
   "metadata": {},
   "outputs": [
    {
     "data": {
      "text/html": [
       "<div>\n",
       "<style scoped>\n",
       "    .dataframe tbody tr th:only-of-type {\n",
       "        vertical-align: middle;\n",
       "    }\n",
       "\n",
       "    .dataframe tbody tr th {\n",
       "        vertical-align: top;\n",
       "    }\n",
       "\n",
       "    .dataframe thead th {\n",
       "        text-align: right;\n",
       "    }\n",
       "</style>\n",
       "<table border=\"1\" class=\"dataframe\">\n",
       "  <thead>\n",
       "    <tr style=\"text-align: right;\">\n",
       "      <th></th>\n",
       "      <th>sensitivity</th>\n",
       "      <th>significance</th>\n",
       "      <th>sens_50_low</th>\n",
       "      <th>sens_50_high</th>\n",
       "      <th>sens_95_low</th>\n",
       "      <th>sens_95_high</th>\n",
       "    </tr>\n",
       "    <tr>\n",
       "      <th>property</th>\n",
       "      <th></th>\n",
       "      <th></th>\n",
       "      <th></th>\n",
       "      <th></th>\n",
       "      <th></th>\n",
       "      <th></th>\n",
       "    </tr>\n",
       "  </thead>\n",
       "  <tbody>\n",
       "    <tr>\n",
       "      <th>class</th>\n",
       "      <td>0.051941</td>\n",
       "      <td>high</td>\n",
       "      <td>NaN</td>\n",
       "      <td>NaN</td>\n",
       "      <td>NaN</td>\n",
       "      <td>NaN</td>\n",
       "    </tr>\n",
       "  </tbody>\n",
       "</table>\n",
       "</div>"
      ],
      "text/plain": [
       "          sensitivity significance  sens_50_low  sens_50_high  sens_95_low  \\\n",
       "property                                                                     \n",
       "class        0.051941         high          NaN           NaN          NaN   \n",
       "\n",
       "          sens_95_high  \n",
       "property                \n",
       "class              NaN  "
      ]
     },
     "execution_count": 17,
     "metadata": {},
     "output_type": "execute_result"
    }
   ],
   "source": [
    "class_test.summary()"
   ]
  },
  {
   "cell_type": "markdown",
   "metadata": {},
   "source": [
    "If we make the images darker, how does performance degrade?"
   ]
  },
  {
   "cell_type": "code",
   "execution_count": 18,
   "metadata": {
    "scrolled": true
   },
   "outputs": [
    {
     "name": "stdout",
     "output_type": "stream",
     "text": [
      "[########################################] 100% (20/20)    1.00  "
     ]
    },
    {
     "data": {
      "image/png": "[encoded data removed]",
      "text/plain": [
       "<Figure size 432x288 with 1 Axes>"
      ]
     },
     "metadata": {
      "needs_background": "light"
     },
     "output_type": "display_data"
    }
   ],
   "source": [
    "pfunc = fade\n",
    "fade_test = cifar_probe.predict_and_measure_perturbed(X_test, y_test, pfunc, p_values=None,                                                              \n",
    "                                      p_min=0, p_max=1, steps=20, label=\"fade\", plot=True)"
   ]
  },
  {
   "cell_type": "markdown",
   "metadata": {},
   "source": [
    "Yep, not surprisingly once the image fades to black, the accuracy drops to random."
   ]
  },
  {
   "cell_type": "code",
   "execution_count": 19,
   "metadata": {},
   "outputs": [
    {
     "data": {
      "text/html": [
       "<div>\n",
       "<style scoped>\n",
       "    .dataframe tbody tr th:only-of-type {\n",
       "        vertical-align: middle;\n",
       "    }\n",
       "\n",
       "    .dataframe tbody tr th {\n",
       "        vertical-align: top;\n",
       "    }\n",
       "\n",
       "    .dataframe thead th {\n",
       "        text-align: right;\n",
       "    }\n",
       "</style>\n",
       "<table border=\"1\" class=\"dataframe\">\n",
       "  <thead>\n",
       "    <tr style=\"text-align: right;\">\n",
       "      <th></th>\n",
       "      <th>sensitivity</th>\n",
       "      <th>significance</th>\n",
       "      <th>sens_50_low</th>\n",
       "      <th>sens_50_high</th>\n",
       "      <th>sens_95_low</th>\n",
       "      <th>sens_95_high</th>\n",
       "    </tr>\n",
       "    <tr>\n",
       "      <th>property</th>\n",
       "      <th></th>\n",
       "      <th></th>\n",
       "      <th></th>\n",
       "      <th></th>\n",
       "      <th></th>\n",
       "      <th></th>\n",
       "    </tr>\n",
       "  </thead>\n",
       "  <tbody>\n",
       "    <tr>\n",
       "      <th>fade</th>\n",
       "      <td>-0.647123</td>\n",
       "      <td>high</td>\n",
       "      <td>NaN</td>\n",
       "      <td>NaN</td>\n",
       "      <td>NaN</td>\n",
       "      <td>NaN</td>\n",
       "    </tr>\n",
       "  </tbody>\n",
       "</table>\n",
       "</div>"
      ],
      "text/plain": [
       "          sensitivity significance  sens_50_low  sens_50_high  sens_95_low  \\\n",
       "property                                                                     \n",
       "fade        -0.647123         high          NaN           NaN          NaN   \n",
       "\n",
       "          sens_95_high  \n",
       "property                \n",
       "fade               NaN  "
      ]
     },
     "execution_count": 19,
     "metadata": {},
     "output_type": "execute_result"
    }
   ],
   "source": [
    "# Highly significant trend\n",
    "fade_test.summary()"
   ]
  },
  {
   "cell_type": "code",
   "execution_count": 20,
   "metadata": {
    "scrolled": false
   },
   "outputs": [
    {
     "name": "stderr",
     "output_type": "stream",
     "text": [
      "Only 400 samples in chain.\n",
      "Auto-assigning NUTS sampler...\n",
      "Initializing NUTS using jitter+adapt_diag...\n",
      "Multiprocess sampling (4 chains in 4 jobs)\n",
      "NUTS: [epsilon, beta, alpha]\n",
      "Sampling 4 chains: 100%|██████████| 2400/2400 [00:13<00:00, 172.32draws/s]\n",
      "The acceptance probability does not match the target. It is 0.8969165058359927, but should be close to 0.8. Try to increase the number of tuning steps.\n",
      "The acceptance probability does not match the target. It is 0.9069718144070171, but should be close to 0.8. Try to increase the number of tuning steps.\n",
      "The acceptance probability does not match the target. It is 0.9091431561556697, but should be close to 0.8. Try to increase the number of tuning steps.\n",
      "The acceptance probability does not match the target. It is 0.8981837850555962, but should be close to 0.8. Try to increase the number of tuning steps.\n",
      "The estimated number of effective samples is smaller than 200 for some parameters.\n"
     ]
    },
    {
     "data": {
      "text/html": [
       "<div>\n",
       "<style scoped>\n",
       "    .dataframe tbody tr th:only-of-type {\n",
       "        vertical-align: middle;\n",
       "    }\n",
       "\n",
       "    .dataframe tbody tr th {\n",
       "        vertical-align: top;\n",
       "    }\n",
       "\n",
       "    .dataframe thead th {\n",
       "        text-align: right;\n",
       "    }\n",
       "</style>\n",
       "<table border=\"1\" class=\"dataframe\">\n",
       "  <thead>\n",
       "    <tr style=\"text-align: right;\">\n",
       "      <th></th>\n",
       "      <th>sensitivity</th>\n",
       "      <th>significance</th>\n",
       "      <th>sens_50_low</th>\n",
       "      <th>sens_50_high</th>\n",
       "      <th>sens_95_low</th>\n",
       "      <th>sens_95_high</th>\n",
       "    </tr>\n",
       "    <tr>\n",
       "      <th>property</th>\n",
       "      <th></th>\n",
       "      <th></th>\n",
       "      <th></th>\n",
       "      <th></th>\n",
       "      <th></th>\n",
       "      <th></th>\n",
       "    </tr>\n",
       "  </thead>\n",
       "  <tbody>\n",
       "    <tr>\n",
       "      <th>fade</th>\n",
       "      <td>-0.647108</td>\n",
       "      <td>high</td>\n",
       "      <td>-0.648719</td>\n",
       "      <td>-0.646112</td>\n",
       "      <td>-0.65106</td>\n",
       "      <td>-0.643311</td>\n",
       "    </tr>\n",
       "  </tbody>\n",
       "</table>\n",
       "</div>"
      ],
      "text/plain": [
       "          sensitivity significance  sens_50_low  sens_50_high  sens_95_low  \\\n",
       "property                                                                     \n",
       "fade        -0.647108         high    -0.648719     -0.646112     -0.65106   \n",
       "\n",
       "          sens_95_high  \n",
       "property                \n",
       "fade         -0.643311  "
      ]
     },
     "execution_count": 20,
     "metadata": {},
     "output_type": "execute_result"
    }
   ],
   "source": [
    "# Let's get some more information on the robustness of that linear fit.\n",
    "fade_test.set_credible_intervals()\n",
    "fade_test.summary()"
   ]
  },
  {
   "cell_type": "code",
   "execution_count": 21,
   "metadata": {},
   "outputs": [
    {
     "data": {
      "image/png": "[encoded data removed]",
      "text/plain": [
       "<Figure size 432x288 with 1 Axes>"
      ]
     },
     "metadata": {
      "needs_background": "light"
     },
     "output_type": "display_data"
    }
   ],
   "source": [
    "cifar_probe.plot_property(fade_test.tests['fade'], show_fit=True)"
   ]
  },
  {
   "cell_type": "code",
   "execution_count": 22,
   "metadata": {},
   "outputs": [
    {
     "data": {
      "image/png": "[encoded data removed]",
      "text/plain": [
       "<Figure size 432x288 with 1 Axes>"
      ]
     },
     "metadata": {
      "needs_background": "light"
     },
     "output_type": "display_data"
    }
   ],
   "source": [
    "# PDF of significance of the sensitivity\n",
    "plt.hist(fade_test.tests['fade'].pos['beta'], bins=50);"
   ]
  },
  {
   "cell_type": "code",
   "execution_count": 23,
   "metadata": {},
   "outputs": [
    {
     "data": {
      "image/png": "[encoded data removed]",
      "text/plain": [
       "<Figure size 432x288 with 1 Axes>"
      ]
     },
     "metadata": {
      "needs_background": "light"
     },
     "output_type": "display_data"
    }
   ],
   "source": [
    "# As we can see it's nowhere near zero.\n",
    "\n",
    "test = fade_test.tests['fade'].pos['beta']\n",
    "summary = fade_test.tests['fade'].summary().iloc[0]\n",
    "min_, max_, mean_ = test.min(), test.max(), test.mean()\n",
    "plt.hist(test, bins=50)\n",
    "\n",
    "plt.axvline(summary.sens_50_low, ls=\"--\", color=\"red\")\n",
    "plt.axvline(summary.sens_50_high, ls=\"--\", color=\"red\")\n",
    "plt.axvline(summary.sens_95_low, ls=\"--\", color=\"green\")\n",
    "plt.axvline(summary.sens_95_high, ls=\"--\", color=\"green\")\n",
    "plt.title(f\"fade significance: High\");"
   ]
  },
  {
   "cell_type": "markdown",
   "metadata": {},
   "source": [
    "You can try a polynomial fit; this may allow identification of the most sensitive regions."
   ]
  },
  {
   "cell_type": "code",
   "execution_count": 24,
   "metadata": {
    "scrolled": false
   },
   "outputs": [
    {
     "data": {
      "image/png": "[encoded data removed]",
      "text/plain": [
       "<Figure size 432x288 with 1 Axes>"
      ]
     },
     "metadata": {
      "needs_background": "light"
     },
     "output_type": "display_data"
    }
   ],
   "source": [
    "cifar_probe.plot_property(fade_test.tests['fade'], label=\"fade\", show_fit=True, fit=\"polynomial\", fitorder=3)"
   ]
  },
  {
   "cell_type": "code",
   "execution_count": 25,
   "metadata": {},
   "outputs": [
    {
     "name": "stdout",
     "output_type": "stream",
     "text": [
      "[########################################] 100% (20/20)    8.00  "
     ]
    }
   ],
   "source": [
    "# Try the blur perturber.\n",
    "pfunc = blur\n",
    "blur_test = cifar_probe.predict_and_measure_perturbed(X_test, y_test_c[:, 0], pfunc, p_min=3, p_max=8, steps=20, \n",
    "                                   label=\"blur\", plot=False)"
   ]
  },
  {
   "cell_type": "code",
   "execution_count": 26,
   "metadata": {},
   "outputs": [
    {
     "data": {
      "image/png": "[encoded data removed]",
      "text/plain": [
       "<Figure size 432x288 with 1 Axes>"
      ]
     },
     "metadata": {
      "needs_background": "light"
     },
     "output_type": "display_data"
    }
   ],
   "source": [
    "cifar_probe.plot_property(blur_test.tests['blur'], label=\"blur\", show_fit=True)"
   ]
  },
  {
   "cell_type": "code",
   "execution_count": 27,
   "metadata": {
    "scrolled": false
   },
   "outputs": [
    {
     "name": "stderr",
     "output_type": "stream",
     "text": [
      "Only 400 samples in chain.\n",
      "Auto-assigning NUTS sampler...\n",
      "Initializing NUTS using jitter+adapt_diag...\n",
      "Multiprocess sampling (4 chains in 4 jobs)\n",
      "NUTS: [epsilon, beta, alpha]\n",
      "Sampling 4 chains: 100%|██████████| 2400/2400 [00:30<00:00, 78.06draws/s] \n",
      "The acceptance probability does not match the target. It is 0.9095801980351218, but should be close to 0.8. Try to increase the number of tuning steps.\n",
      "The acceptance probability does not match the target. It is 0.919391777651281, but should be close to 0.8. Try to increase the number of tuning steps.\n",
      "The acceptance probability does not match the target. It is 0.9136988471725083, but should be close to 0.8. Try to increase the number of tuning steps.\n",
      "The number of effective samples is smaller than 25% for some parameters.\n"
     ]
    },
    {
     "data": {
      "text/html": [
       "<div>\n",
       "<style scoped>\n",
       "    .dataframe tbody tr th:only-of-type {\n",
       "        vertical-align: middle;\n",
       "    }\n",
       "\n",
       "    .dataframe tbody tr th {\n",
       "        vertical-align: top;\n",
       "    }\n",
       "\n",
       "    .dataframe thead th {\n",
       "        text-align: right;\n",
       "    }\n",
       "</style>\n",
       "<table border=\"1\" class=\"dataframe\">\n",
       "  <thead>\n",
       "    <tr style=\"text-align: right;\">\n",
       "      <th></th>\n",
       "      <th>sensitivity</th>\n",
       "      <th>significance</th>\n",
       "      <th>sens_50_low</th>\n",
       "      <th>sens_50_high</th>\n",
       "      <th>sens_95_low</th>\n",
       "      <th>sens_95_high</th>\n",
       "    </tr>\n",
       "    <tr>\n",
       "      <th>property</th>\n",
       "      <th></th>\n",
       "      <th></th>\n",
       "      <th></th>\n",
       "      <th></th>\n",
       "      <th></th>\n",
       "      <th></th>\n",
       "    </tr>\n",
       "  </thead>\n",
       "  <tbody>\n",
       "    <tr>\n",
       "      <th>blur</th>\n",
       "      <td>-0.116615</td>\n",
       "      <td>high</td>\n",
       "      <td>-0.116947</td>\n",
       "      <td>-0.116398</td>\n",
       "      <td>-0.117404</td>\n",
       "      <td>-0.115903</td>\n",
       "    </tr>\n",
       "  </tbody>\n",
       "</table>\n",
       "</div>"
      ],
      "text/plain": [
       "          sensitivity significance  sens_50_low  sens_50_high  sens_95_low  \\\n",
       "property                                                                     \n",
       "blur        -0.116615         high    -0.116947     -0.116398    -0.117404   \n",
       "\n",
       "          sens_95_high  \n",
       "property                \n",
       "blur         -0.115903  "
      ]
     },
     "execution_count": 27,
     "metadata": {},
     "output_type": "execute_result"
    }
   ],
   "source": [
    "blur_test.set_credible_intervals()\n",
    "blur_test.summary()"
   ]
  }
 ],
 "metadata": {
  "kernelspec": {
   "display_name": "sensie",
   "language": "python",
   "name": "sensie"
  },
  "language_info": {
   "codemirror_mode": {
    "name": "ipython",
    "version": 3
   },
   "file_extension": ".py",
   "mimetype": "text/x-python",
   "name": "python",
   "nbconvert_exporter": "python",
   "pygments_lexer": "ipython3",
   "version": "3.7.6"
  }
 },
 "nbformat": 4,
 "nbformat_minor": 2
}
