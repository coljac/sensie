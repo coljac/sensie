{
 "cells": [
  {
   "cell_type": "code",
   "execution_count": 14,
   "metadata": {},
   "outputs": [],
   "source": [
    "%matplotlib inline\n",
    "\n",
    "import scipy\n",
    "import tensorflow as tf\n",
    "import tensorflow.keras.layers as layers\n",
    "import tensorflow.keras as keras\n",
    "import sensie"
   ]
  },
  {
   "cell_type": "markdown",
   "metadata": {},
   "source": [
    "## MNIST - sensitivity to input orientation"
   ]
  },
  {
   "cell_type": "code",
   "execution_count": 15,
   "metadata": {},
   "outputs": [],
   "source": [
    "mnist = tf.keras.datasets.mnist\n",
    "\n",
    "(X_train, y_train), (X_test, y_test) = mnist.load_data()\n",
    "X_train, X_test = X_train / 255.0, X_test / 255.0\n",
    "X_train = X_train[:, :, :, np.newaxis]\n",
    "X_test = X_test[:, :, :, np.newaxis]\n",
    "\n"
   ]
  },
  {
   "cell_type": "code",
   "execution_count": 16,
   "metadata": {},
   "outputs": [],
   "source": [
    "def make_model_mnist(): \n",
    "    input_shape = (28, 28, 1)\n",
    "    model = keras.models.Sequential()\n",
    "    model.add(layers.Conv2D(32, kernel_size=(3, 3),\n",
    "                     activation='relu',\n",
    "                     input_shape=input_shape))\n",
    "    model.add(layers.Conv2D(64, (3, 3), activation='relu'))\n",
    "    model.add(layers.MaxPooling2D(pool_size=(2, 2)))\n",
    "    model.add(layers.Dropout(0.25))\n",
    "    model.add(layers.Flatten())\n",
    "    model.add(layers.Dense(128, activation='relu'))\n",
    "    model.add(layers.Dropout(0.5))\n",
    "    model.add(layers.Dense(10, activation='softmax'))\n",
    "\n",
    "    model.compile(optimizer='adam',\n",
    "                      loss='sparse_categorical_crossentropy',\n",
    "                      metrics=['accuracy'])\n",
    "    return model"
   ]
  },
  {
   "cell_type": "code",
   "execution_count": 17,
   "metadata": {},
   "outputs": [],
   "source": [
    "model = make_model_mnist()\n",
    "batch_size = 128\n",
    "num_epoch = 10"
   ]
  },
  {
   "cell_type": "code",
   "execution_count": 18,
   "metadata": {},
   "outputs": [
    {
     "name": "stdout",
     "output_type": "stream",
     "text": [
      "Train on 60000 samples, validate on 10000 samples\n",
      "Epoch 1/10\n",
      "60000/60000 [==============================] - 4s 64us/sample - loss: 0.2432 - accuracy: 0.9251 - val_loss: 0.0531 - val_accuracy: 0.9814\n",
      "Epoch 2/10\n",
      "60000/60000 [==============================] - 4s 60us/sample - loss: 0.0874 - accuracy: 0.9740 - val_loss: 0.0393 - val_accuracy: 0.9872\n",
      "Epoch 3/10\n",
      "60000/60000 [==============================] - 3s 57us/sample - loss: 0.0649 - accuracy: 0.9805 - val_loss: 0.0328 - val_accuracy: 0.9891\n",
      "Epoch 4/10\n",
      "60000/60000 [==============================] - 3s 58us/sample - loss: 0.0547 - accuracy: 0.9831 - val_loss: 0.0346 - val_accuracy: 0.9882\n",
      "Epoch 5/10\n",
      "60000/60000 [==============================] - 3s 58us/sample - loss: 0.0464 - accuracy: 0.9854 - val_loss: 0.0308 - val_accuracy: 0.9907\n",
      "Epoch 6/10\n",
      "60000/60000 [==============================] - 3s 57us/sample - loss: 0.0427 - accuracy: 0.9866 - val_loss: 0.0321 - val_accuracy: 0.9904\n",
      "Epoch 7/10\n",
      "60000/60000 [==============================] - 4s 58us/sample - loss: 0.0350 - accuracy: 0.9891 - val_loss: 0.0260 - val_accuracy: 0.9912\n",
      "Epoch 8/10\n",
      "60000/60000 [==============================] - 3s 57us/sample - loss: 0.0313 - accuracy: 0.9896 - val_loss: 0.0277 - val_accuracy: 0.9919\n",
      "Epoch 9/10\n",
      "60000/60000 [==============================] - 3s 58us/sample - loss: 0.0286 - accuracy: 0.9911 - val_loss: 0.0271 - val_accuracy: 0.9917\n",
      "Epoch 10/10\n",
      "60000/60000 [==============================] - 4s 59us/sample - loss: 0.0264 - accuracy: 0.9915 - val_loss: 0.0326 - val_accuracy: 0.9914\n"
     ]
    }
   ],
   "source": [
    "savemodel = False # Handy to repeat the experiment\n",
    "if savemodel and os.path.exists(\"/tmp/mnist.h5\"):\n",
    "    model.load_weights(\"/tmp/mnist.h5\")\n",
    "else:\n",
    "    model_log = model.fit(X_train, y_train,\n",
    "              batch_size=batch_size,\n",
    "              epochs=num_epoch,\n",
    "              verbose=1,\n",
    "              validation_data=(X_test, y_test))\n",
    "\n",
    "    if savemodel:\n",
    "        model.save(\"/tmp/mnist.h5\")"
   ]
  },
  {
   "cell_type": "code",
   "execution_count": 19,
   "metadata": {
    "scrolled": false
   },
   "outputs": [
    {
     "name": "stdout",
     "output_type": "stream",
     "text": [
      "10000/10000 - 1s - loss: 0.0326 - accuracy: 0.9914\n"
     ]
    },
    {
     "data": {
      "text/plain": [
       "[0.03264011251021548, 0.9914]"
      ]
     },
     "execution_count": 19,
     "metadata": {},
     "output_type": "execute_result"
    }
   ],
   "source": [
    "# Should be 99% accurate\n",
    "model.evaluate(X_test, y_test, verbose=2)"
   ]
  },
  {
   "cell_type": "code",
   "execution_count": 20,
   "metadata": {},
   "outputs": [],
   "source": [
    "# Define a function to rotate a digit example\n",
    "\n",
    "def rotate(X, angle):\n",
    "    rotated = scipy.ndimage.rotate(X, angle, axes=(1,2))\n",
    "    w = int(rotated.shape[1]/2)\n",
    "    return rotated[:, w-14:w+14, w-14:w+14, :]\n",
    "    "
   ]
  },
  {
   "cell_type": "markdown",
   "metadata": {},
   "source": [
    "Now, create a probe object to wrap the model, then pass it the rotate function to test the sensitivity to rotation using the test set; we'll test rotation from 0 to 180 degrees."
   ]
  },
  {
   "cell_type": "code",
   "execution_count": 21,
   "metadata": {
    "scrolled": false
   },
   "outputs": [
    {
     "name": "stdout",
     "output_type": "stream",
     "text": [
      "[########################################] 100% (20/20)    180.00  "
     ]
    },
    {
     "data": {
      "image/png": "[encoded data removed]",
      "text/plain": [
       "<Figure size 432x288 with 1 Axes>"
      ]
     },
     "metadata": {
      "needs_background": "light"
     },
     "output_type": "display_data"
    }
   ],
   "source": [
    "mnist_probe = sensie.Probe(model=model)\n",
    "pfunc = rotate\n",
    "rot_test = mnist_probe.predict_and_measure_perturbed(X_test, y_test, pfunc, p_min=0, p_max=180, steps=20, \n",
    "                              label='rotation', plot=True, ci=False)"
   ]
  },
  {
   "cell_type": "markdown",
   "metadata": {},
   "source": [
    "Yes, this looks like a significant effect. \n",
    "\n",
    "This could be viewed as a weakness of the model. Let's retrain with rotated\n",
    "examples and see how things change."
   ]
  },
  {
   "cell_type": "code",
   "execution_count": 22,
   "metadata": {},
   "outputs": [],
   "source": [
    "X_train_rot = np.empty_like(X_train)\n",
    "X_test_rot = np.empty_like(X_test)\n",
    "for i in range(X_train.shape[0]):\n",
    "    angle = np.random.random()*180\n",
    "    X_train_rot[i:i+1] = rotate(X_train[i:i+1], angle)\n",
    "    if i < X_test.shape[0]:\n",
    "        X_test_rot[i:i+1] = rotate(X_test[i:i+1], angle)\n"
   ]
  },
  {
   "cell_type": "code",
   "execution_count": 23,
   "metadata": {},
   "outputs": [
    {
     "name": "stdout",
     "output_type": "stream",
     "text": [
      "Train on 60000 samples, validate on 10000 samples\n",
      "Epoch 1/10\n",
      "60000/60000 [==============================] - 3s 56us/sample - loss: 0.4919 - accuracy: 0.8563 - val_loss: 0.1367 - val_accuracy: 0.9573\n",
      "Epoch 2/10\n",
      "60000/60000 [==============================] - 3s 58us/sample - loss: 0.2173 - accuracy: 0.9337 - val_loss: 0.1056 - val_accuracy: 0.9671\n",
      "Epoch 3/10\n",
      "60000/60000 [==============================] - 4s 59us/sample - loss: 0.1735 - accuracy: 0.9463 - val_loss: 0.0956 - val_accuracy: 0.9709\n",
      "Epoch 4/10\n",
      "60000/60000 [==============================] - 3s 57us/sample - loss: 0.1433 - accuracy: 0.9558 - val_loss: 0.0910 - val_accuracy: 0.9719\n",
      "Epoch 5/10\n",
      "60000/60000 [==============================] - 3s 58us/sample - loss: 0.1260 - accuracy: 0.9598 - val_loss: 0.0853 - val_accuracy: 0.9743\n",
      "Epoch 6/10\n",
      "60000/60000 [==============================] - 4s 59us/sample - loss: 0.1127 - accuracy: 0.9641 - val_loss: 0.0825 - val_accuracy: 0.9739\n",
      "Epoch 7/10\n",
      "60000/60000 [==============================] - 3s 57us/sample - loss: 0.1022 - accuracy: 0.9674 - val_loss: 0.0806 - val_accuracy: 0.9760\n",
      "Epoch 8/10\n",
      "60000/60000 [==============================] - 3s 57us/sample - loss: 0.0921 - accuracy: 0.9703 - val_loss: 0.0794 - val_accuracy: 0.9760\n",
      "Epoch 9/10\n",
      "60000/60000 [==============================] - 4s 59us/sample - loss: 0.0850 - accuracy: 0.9722 - val_loss: 0.0816 - val_accuracy: 0.9755\n",
      "Epoch 10/10\n",
      "60000/60000 [==============================] - 3s 57us/sample - loss: 0.0801 - accuracy: 0.9731 - val_loss: 0.0785 - val_accuracy: 0.9768\n"
     ]
    }
   ],
   "source": [
    "model_log = model.fit(X_train_rot, y_train,\n",
    "          batch_size=batch_size,\n",
    "          epochs=num_epoch,\n",
    "          verbose=1,\n",
    "          validation_data=(X_test_rot, y_test))"
   ]
  },
  {
   "cell_type": "code",
   "execution_count": 24,
   "metadata": {},
   "outputs": [
    {
     "name": "stdout",
     "output_type": "stream",
     "text": [
      "[########################################] 100% (10/10)    180.00  "
     ]
    },
    {
     "data": {
      "image/png": "[encoded data removed]",
      "text/plain": [
       "<Figure size 432x288 with 1 Axes>"
      ]
     },
     "metadata": {
      "needs_background": "light"
     },
     "output_type": "display_data"
    }
   ],
   "source": [
    "rot_test = mnist_probe.predict_and_measure_perturbed(X_test, y_test, pfunc, p_min=0, p_max=180, steps=10, \n",
    "                              label='rotation', plot=True)"
   ]
  },
  {
   "cell_type": "markdown",
   "metadata": {},
   "source": [
    "That looks better!"
   ]
  },
  {
   "cell_type": "code",
   "execution_count": null,
   "metadata": {},
   "outputs": [],
   "source": []
  }
 ],
 "metadata": {
  "kernelspec": {
   "display_name": "senv",
   "language": "python",
   "name": "senv"
  },
  "language_info": {
   "codemirror_mode": {
    "name": "ipython",
    "version": 3
   },
   "file_extension": ".py",
   "mimetype": "text/x-python",
   "name": "python",
   "nbconvert_exporter": "python",
   "pygments_lexer": "ipython3",
   "version": "3.7.3"
  }
 },
 "nbformat": 4,
 "nbformat_minor": 2
}
