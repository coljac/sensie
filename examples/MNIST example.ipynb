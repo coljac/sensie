{
 "cells": [
  {
   "cell_type": "code",
   "execution_count": 3,
   "metadata": {},
   "outputs": [],
   "source": [
    "%matplotlib inline\n",
    "import numpy as np\n",
    "import scipy\n",
    "import tensorflow as tf\n",
    "import tensorflow.keras.layers as layers\n",
    "import tensorflow.keras as keras\n",
    "import sensie"
   ]
  },
  {
   "cell_type": "markdown",
   "metadata": {},
   "source": [
    "## MNIST - sensitivity to input orientation"
   ]
  },
  {
   "cell_type": "code",
   "execution_count": 4,
   "metadata": {},
   "outputs": [
    {
     "name": "stdout",
     "output_type": "stream",
     "text": [
      "Downloading data from https://storage.googleapis.com/tensorflow/tf-keras-datasets/mnist.npz\n",
      "11493376/11490434 [==============================] - 1s 0us/step\n"
     ]
    }
   ],
   "source": [
    "mnist = tf.keras.datasets.mnist\n",
    "\n",
    "(X_train, y_train), (X_test, y_test) = mnist.load_data()\n",
    "X_train, X_test = X_train / 255.0, X_test / 255.0\n",
    "X_train = X_train[:, :, :, np.newaxis]\n",
    "X_test = X_test[:, :, :, np.newaxis]\n",
    "\n"
   ]
  },
  {
   "cell_type": "code",
   "execution_count": 5,
   "metadata": {},
   "outputs": [],
   "source": [
    "def make_model_mnist(): \n",
    "    input_shape = (28, 28, 1)\n",
    "    model = keras.models.Sequential()\n",
    "    model.add(layers.Conv2D(32, kernel_size=(3, 3),\n",
    "                     activation='relu',\n",
    "                     input_shape=input_shape))\n",
    "    model.add(layers.Conv2D(64, (3, 3), activation='relu'))\n",
    "    model.add(layers.MaxPooling2D(pool_size=(2, 2)))\n",
    "    model.add(layers.Dropout(0.25))\n",
    "    model.add(layers.Flatten())\n",
    "    model.add(layers.Dense(128, activation='relu'))\n",
    "    model.add(layers.Dropout(0.5))\n",
    "    model.add(layers.Dense(10, activation='softmax'))\n",
    "\n",
    "    model.compile(optimizer='adam',\n",
    "                      loss='sparse_categorical_crossentropy',\n",
    "                      metrics=['accuracy'])\n",
    "    return model"
   ]
  },
  {
   "cell_type": "code",
   "execution_count": 6,
   "metadata": {},
   "outputs": [],
   "source": [
    "model = make_model_mnist()\n",
    "batch_size = 128\n",
    "num_epoch = 10"
   ]
  },
  {
   "cell_type": "code",
   "execution_count": 7,
   "metadata": {},
   "outputs": [
    {
     "name": "stdout",
     "output_type": "stream",
     "text": [
      "Train on 60000 samples, validate on 10000 samples\n",
      "Epoch 1/10\n",
      "60000/60000 [==============================] - 4s 75us/sample - loss: 0.2534 - accuracy: 0.9220 - val_loss: 0.0562 - val_accuracy: 0.9819\n",
      "Epoch 2/10\n",
      "60000/60000 [==============================] - 2s 41us/sample - loss: 0.0884 - accuracy: 0.9735 - val_loss: 0.0374 - val_accuracy: 0.9880\n",
      "Epoch 3/10\n",
      "60000/60000 [==============================] - 2s 42us/sample - loss: 0.0680 - accuracy: 0.9796 - val_loss: 0.0318 - val_accuracy: 0.9897\n",
      "Epoch 4/10\n",
      "60000/60000 [==============================] - 2s 42us/sample - loss: 0.0542 - accuracy: 0.9837 - val_loss: 0.0322 - val_accuracy: 0.9900\n",
      "Epoch 5/10\n",
      "60000/60000 [==============================] - 3s 42us/sample - loss: 0.0478 - accuracy: 0.9854 - val_loss: 0.0303 - val_accuracy: 0.9900\n",
      "Epoch 6/10\n",
      "60000/60000 [==============================] - 2s 42us/sample - loss: 0.0419 - accuracy: 0.9866 - val_loss: 0.0289 - val_accuracy: 0.9904\n",
      "Epoch 7/10\n",
      "60000/60000 [==============================] - 3s 42us/sample - loss: 0.0364 - accuracy: 0.9884 - val_loss: 0.0300 - val_accuracy: 0.9904\n",
      "Epoch 8/10\n",
      "60000/60000 [==============================] - 3s 42us/sample - loss: 0.0335 - accuracy: 0.9896 - val_loss: 0.0267 - val_accuracy: 0.9910\n",
      "Epoch 9/10\n",
      "60000/60000 [==============================] - 3s 42us/sample - loss: 0.0300 - accuracy: 0.9902 - val_loss: 0.0273 - val_accuracy: 0.9917\n",
      "Epoch 10/10\n",
      "60000/60000 [==============================] - 3s 42us/sample - loss: 0.0262 - accuracy: 0.9914 - val_loss: 0.0286 - val_accuracy: 0.9910\n"
     ]
    }
   ],
   "source": [
    "savemodel = False # Handy to repeat the experiment\n",
    "if savemodel and os.path.exists(\"/tmp/mnist.h5\"):\n",
    "    model.load_weights(\"/tmp/mnist.h5\")\n",
    "else:\n",
    "    model_log = model.fit(X_train, y_train,\n",
    "              batch_size=batch_size,\n",
    "              epochs=num_epoch,\n",
    "              verbose=1,\n",
    "              validation_data=(X_test, y_test))\n",
    "\n",
    "    if savemodel:\n",
    "        model.save(\"/tmp/mnist.h5\")"
   ]
  },
  {
   "cell_type": "code",
   "execution_count": 8,
   "metadata": {
    "scrolled": false
   },
   "outputs": [
    {
     "name": "stdout",
     "output_type": "stream",
     "text": [
      "10000/10000 - 0s - loss: 0.0286 - accuracy: 0.9910\n"
     ]
    },
    {
     "data": {
      "text/plain": [
       "[0.028556342150557065, 0.991]"
      ]
     },
     "execution_count": 8,
     "metadata": {},
     "output_type": "execute_result"
    }
   ],
   "source": [
    "# Should be 99% accurate\n",
    "model.evaluate(X_test, y_test, verbose=2)"
   ]
  },
  {
   "cell_type": "code",
   "execution_count": 9,
   "metadata": {},
   "outputs": [],
   "source": [
    "# Define a function to rotate a digit example\n",
    "\n",
    "def rotate(X, angle):\n",
    "    rotated = scipy.ndimage.rotate(X, angle, axes=(1,2))\n",
    "    w = int(rotated.shape[1]/2)\n",
    "    return rotated[:, w-14:w+14, w-14:w+14, :]\n",
    "    "
   ]
  },
  {
   "cell_type": "markdown",
   "metadata": {},
   "source": [
    "Now, create a probe object to wrap the model, then pass it the rotate function to test the sensitivity to rotation using the test set; we'll test rotation from 0 to 180 degrees."
   ]
  },
  {
   "cell_type": "code",
   "execution_count": 10,
   "metadata": {
    "scrolled": false
   },
   "outputs": [
    {
     "name": "stdout",
     "output_type": "stream",
     "text": [
      "[########################################] 100% (20/20)    180.00  "
     ]
    },
    {
     "data": {
      "image/png": "[encoded data removed]",
      "text/plain": [
       "<Figure size 432x288 with 1 Axes>"
      ]
     },
     "metadata": {
      "needs_background": "light"
     },
     "output_type": "display_data"
    }
   ],
   "source": [
    "mnist_probe = sensie.Probe(model=model)\n",
    "pfunc = rotate\n",
    "rot_test = mnist_probe.predict_and_measure_perturbed(X_test, y_test, pfunc, p_min=0, p_max=180, steps=20, \n",
    "                              label='rotation', plot=True, ci=False)"
   ]
  },
  {
   "cell_type": "markdown",
   "metadata": {},
   "source": [
    "Yes, this looks like a significant effect. \n",
    "\n",
    "This could be viewed as a weakness of the model. Let's retrain with rotated\n",
    "examples and see how things change."
   ]
  },
  {
   "cell_type": "code",
   "execution_count": 11,
   "metadata": {},
   "outputs": [],
   "source": [
    "X_train_rot = np.empty_like(X_train)\n",
    "X_test_rot = np.empty_like(X_test)\n",
    "for i in range(X_train.shape[0]):\n",
    "    angle = np.random.random()*180\n",
    "    X_train_rot[i:i+1] = rotate(X_train[i:i+1], angle)\n",
    "    if i < X_test.shape[0]:\n",
    "        X_test_rot[i:i+1] = rotate(X_test[i:i+1], angle)\n"
   ]
  },
  {
   "cell_type": "code",
   "execution_count": 12,
   "metadata": {},
   "outputs": [
    {
     "name": "stdout",
     "output_type": "stream",
     "text": [
      "Train on 60000 samples, validate on 10000 samples\n",
      "Epoch 1/10\n",
      "60000/60000 [==============================] - 3s 43us/sample - loss: 0.4771 - accuracy: 0.8609 - val_loss: 0.1305 - val_accuracy: 0.9600\n",
      "Epoch 2/10\n",
      "60000/60000 [==============================] - 3s 42us/sample - loss: 0.2085 - accuracy: 0.9366 - val_loss: 0.1014 - val_accuracy: 0.9689\n",
      "Epoch 3/10\n",
      "60000/60000 [==============================] - 3s 42us/sample - loss: 0.1608 - accuracy: 0.9505 - val_loss: 0.0946 - val_accuracy: 0.9695\n",
      "Epoch 4/10\n",
      "60000/60000 [==============================] - 2s 41us/sample - loss: 0.1371 - accuracy: 0.9575 - val_loss: 0.0915 - val_accuracy: 0.9703\n",
      "Epoch 5/10\n",
      "60000/60000 [==============================] - 2s 42us/sample - loss: 0.1198 - accuracy: 0.9616 - val_loss: 0.0828 - val_accuracy: 0.9744\n",
      "Epoch 6/10\n",
      "60000/60000 [==============================] - 3s 44us/sample - loss: 0.1065 - accuracy: 0.9653 - val_loss: 0.0825 - val_accuracy: 0.9745\n",
      "Epoch 7/10\n",
      "60000/60000 [==============================] - 3s 44us/sample - loss: 0.0986 - accuracy: 0.9681 - val_loss: 0.0888 - val_accuracy: 0.9730\n",
      "Epoch 8/10\n",
      "60000/60000 [==============================] - 3s 44us/sample - loss: 0.0876 - accuracy: 0.9718 - val_loss: 0.0812 - val_accuracy: 0.9753\n",
      "Epoch 9/10\n",
      "60000/60000 [==============================] - 2s 42us/sample - loss: 0.0823 - accuracy: 0.9724 - val_loss: 0.0793 - val_accuracy: 0.9761\n",
      "Epoch 10/10\n",
      "60000/60000 [==============================] - 3s 43us/sample - loss: 0.0737 - accuracy: 0.9748 - val_loss: 0.0848 - val_accuracy: 0.9770\n"
     ]
    }
   ],
   "source": [
    "model_log = model.fit(X_train_rot, y_train,\n",
    "          batch_size=batch_size,\n",
    "          epochs=num_epoch,\n",
    "          verbose=1,\n",
    "          validation_data=(X_test_rot, y_test))"
   ]
  },
  {
   "cell_type": "code",
   "execution_count": 13,
   "metadata": {},
   "outputs": [
    {
     "name": "stdout",
     "output_type": "stream",
     "text": [
      "[########################################] 100% (10/10)    180.00  "
     ]
    },
    {
     "data": {
      "image/png": "[encoded data removed]",
      "text/plain": [
       "<Figure size 432x288 with 1 Axes>"
      ]
     },
     "metadata": {
      "needs_background": "light"
     },
     "output_type": "display_data"
    }
   ],
   "source": [
    "rot_test = mnist_probe.predict_and_measure_perturbed(X_test, y_test, pfunc, p_min=0, p_max=180, steps=10, \n",
    "                              label='rotation', plot=True)"
   ]
  },
  {
   "cell_type": "markdown",
   "metadata": {},
   "source": [
    "That looks better!"
   ]
  },
  {
   "cell_type": "code",
   "execution_count": null,
   "metadata": {},
   "outputs": [],
   "source": []
  }
 ],
 "metadata": {
  "kernelspec": {
   "display_name": "sensie",
   "language": "python",
   "name": "sensie"
  },
  "language_info": {
   "codemirror_mode": {
    "name": "ipython",
    "version": 3
   },
   "file_extension": ".py",
   "mimetype": "text/x-python",
   "name": "python",
   "nbconvert_exporter": "python",
   "pygments_lexer": "ipython3",
   "version": "3.7.6"
  }
 },
 "nbformat": 4,
 "nbformat_minor": 2
}
